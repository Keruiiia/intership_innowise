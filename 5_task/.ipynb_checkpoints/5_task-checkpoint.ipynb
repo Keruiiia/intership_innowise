{
 "cells": [
  {
   "cell_type": "code",
   "execution_count": 79,
   "id": "6ccdd047",
   "metadata": {},
   "outputs": [],
   "source": [
    "from pyspark.sql import SparkSession\n",
    "from pyspark.sql.functions import *\n",
    "import os\n",
    "from dotenv import load_dotenv\n",
    "from pyspark.sql.window import Window\n",
    "import findspark\n",
    "\n",
    "findspark.init()"
   ]
  },
  {
   "cell_type": "code",
   "execution_count": 2,
   "id": "1ffe78a5",
   "metadata": {},
   "outputs": [],
   "source": [
    "load_dotenv(\"C:/Users/qwerty/Desktop/tem/pagila/.env\")\n",
    "\n",
    "POSTGRES_USER = os.getenv(\"POSTGRES_USER\")\n",
    "POSTGRES_PASSWORD = os.getenv(\"POSTGRES_PASSWORD\")\n",
    "POSTGRES_PORT = os.getenv(\"POSTGRES_PORT\")\n",
    "HOST = os.getenv(\"HOST\")\n",
    "\n",
    "spark = SparkSession.builder \\\n",
    "    .appName(\"5_task\") \\\n",
    "    .config(\"spark.driver.extraClassPath\", \"C:/Users/qwerty/Desktop/tem/postgresql-42.6.0.jar\") \\\n",
    "    .getOrCreate()"
   ]
  },
  {
   "cell_type": "code",
   "execution_count": 3,
   "id": "4a881d63",
   "metadata": {},
   "outputs": [
    {
     "data": {
      "text/plain": [
       "[Row(table_name='film_actor'),\n",
       " Row(table_name='address'),\n",
       " Row(table_name='city'),\n",
       " Row(table_name='actor'),\n",
       " Row(table_name='actor_info'),\n",
       " Row(table_name='category'),\n",
       " Row(table_name='country'),\n",
       " Row(table_name='customer'),\n",
       " Row(table_name='customer_list'),\n",
       " Row(table_name='film_list'),\n",
       " Row(table_name='nicer_but_slower_film_list'),\n",
       " Row(table_name='film'),\n",
       " Row(table_name='film_category'),\n",
       " Row(table_name='inventory'),\n",
       " Row(table_name='language'),\n",
       " Row(table_name='sales_by_film_category'),\n",
       " Row(table_name='rental'),\n",
       " Row(table_name='sales_by_store'),\n",
       " Row(table_name='staff_list'),\n",
       " Row(table_name='payment'),\n",
       " Row(table_name='store'),\n",
       " Row(table_name='payment_p2022_02'),\n",
       " Row(table_name='payment_p2022_07'),\n",
       " Row(table_name='payment_p2022_04'),\n",
       " Row(table_name='payment_p2022_05'),\n",
       " Row(table_name='staff'),\n",
       " Row(table_name='payment_p2022_01'),\n",
       " Row(table_name='payment_p2022_03'),\n",
       " Row(table_name='payment_p2022_06')]"
      ]
     },
     "execution_count": 3,
     "metadata": {},
     "output_type": "execute_result"
    }
   ],
   "source": [
    "table_names = spark.read.format('jdbc'). \\\n",
    "     options(\n",
    "         url=f\"jdbc:postgresql://{HOST}:{POSTGRES_PORT}/{POSTGRES_USER}\", \n",
    "         dbtable='information_schema.tables',\n",
    "         user=POSTGRES_USER,\n",
    "         password=POSTGRES_PASSWORD,\n",
    "         driver='org.postgresql.Driver'). \\\n",
    "     load().\\\n",
    "filter(\"table_schema = 'public'\").select(\"table_name\")\n",
    "table_names.collect()"
   ]
  },
  {
   "cell_type": "code",
   "execution_count": 4,
   "id": "bc876581",
   "metadata": {},
   "outputs": [
    {
     "name": "stdout",
     "output_type": "stream",
     "text": [
      "['film_actor', 'address', 'city', 'actor', 'actor_info', 'category', 'country', 'customer', 'customer_list', 'film_list', 'nicer_but_slower_film_list', 'film', 'film_category', 'inventory', 'language', 'sales_by_film_category', 'rental', 'sales_by_store', 'staff_list', 'payment', 'store', 'payment_p2022_02', 'payment_p2022_07', 'payment_p2022_04', 'payment_p2022_05', 'staff', 'payment_p2022_01', 'payment_p2022_03', 'payment_p2022_06']\n"
     ]
    }
   ],
   "source": [
    "table_names_list = [row.table_name for row in table_names.collect()]\n",
    "print(table_names_list)"
   ]
  },
  {
   "cell_type": "code",
   "execution_count": 5,
   "id": "4e52f2d9",
   "metadata": {},
   "outputs": [],
   "source": [
    "dfs = {}\n",
    "for table_name in table_names_list:\n",
    "    dfs[table_name] = spark.read \\\n",
    "            .format(\"jdbc\") \\\n",
    "            .option(\"jdbc.driverClassName\", \"org.postgresql.Driver\") \\\n",
    "            .option(\"url\", f\"jdbc:postgresql://{HOST}:{POSTGRES_PORT}/{POSTGRES_USER}\") \\\n",
    "            .option(\"dbtable\", table_name) \\\n",
    "            .option(\"user\", POSTGRES_USER) \\\n",
    "            .option(\"password\", POSTGRES_PASSWORD) \\\n",
    "            .load()"
   ]
  },
  {
   "cell_type": "code",
   "execution_count": 6,
   "id": "94cde3f7",
   "metadata": {},
   "outputs": [
    {
     "name": "stdout",
     "output_type": "stream",
     "text": [
      "+-----------+-----------+-------------------+\n",
      "|category_id|       name|        last_update|\n",
      "+-----------+-----------+-------------------+\n",
      "|          1|     Action|2022-02-15 12:46:27|\n",
      "|          2|  Animation|2022-02-15 12:46:27|\n",
      "|          3|   Children|2022-02-15 12:46:27|\n",
      "|          4|   Classics|2022-02-15 12:46:27|\n",
      "|          5|     Comedy|2022-02-15 12:46:27|\n",
      "|          6|Documentary|2022-02-15 12:46:27|\n",
      "|          7|      Drama|2022-02-15 12:46:27|\n",
      "|          8|     Family|2022-02-15 12:46:27|\n",
      "|          9|    Foreign|2022-02-15 12:46:27|\n",
      "|         10|      Games|2022-02-15 12:46:27|\n",
      "|         11|     Horror|2022-02-15 12:46:27|\n",
      "|         12|      Music|2022-02-15 12:46:27|\n",
      "|         13|        New|2022-02-15 12:46:27|\n",
      "|         14|     Sci-Fi|2022-02-15 12:46:27|\n",
      "|         15|     Sports|2022-02-15 12:46:27|\n",
      "|         16|     Travel|2022-02-15 12:46:27|\n",
      "+-----------+-----------+-------------------+\n",
      "\n"
     ]
    }
   ],
   "source": [
    "dfs['category'].show()"
   ]
  },
  {
   "cell_type": "code",
   "execution_count": 7,
   "id": "59fd6100",
   "metadata": {},
   "outputs": [
    {
     "name": "stdout",
     "output_type": "stream",
     "text": [
      "+-------------+----------+\n",
      "|category_name|film_count|\n",
      "+-------------+----------+\n",
      "|       Sports|        74|\n",
      "|      Foreign|        73|\n",
      "|       Family|        69|\n",
      "|  Documentary|        68|\n",
      "|    Animation|        66|\n",
      "|       Action|        64|\n",
      "|          New|        63|\n",
      "|        Drama|        62|\n",
      "|       Sci-Fi|        61|\n",
      "|        Games|        61|\n",
      "|     Children|        60|\n",
      "|       Comedy|        58|\n",
      "|     Classics|        57|\n",
      "|       Travel|        57|\n",
      "|       Horror|        56|\n",
      "|        Music|        51|\n",
      "+-------------+----------+\n",
      "\n"
     ]
    }
   ],
   "source": [
    "# Вывести количество фильмов в каждой категории, отсортировать по убыванию.\n",
    "\n",
    "result_query_1 = dfs['category'] \\\n",
    "    .join(dfs['film_category'], dfs['category'].category_id == dfs['film_category'].category_id) \\\n",
    "    .join(dfs['film'], dfs['film_category'].film_id == dfs['film'].film_id) \\\n",
    "    .groupBy(dfs['category'].name.alias('category_name')) \\\n",
    "    .agg(count(dfs['film'].film_id).alias('film_count')) \\\n",
    "    .orderBy(col('film_count').desc())\n",
    "\n",
    "result_query_1.show()"
   ]
  },
  {
   "cell_type": "code",
   "execution_count": 8,
   "id": "a32ddbbc",
   "metadata": {},
   "outputs": [
    {
     "name": "stdout",
     "output_type": "stream",
     "text": [
      "+--------+----------+-----------+------------+\n",
      "|actor_id|first_name|  last_name|rental_count|\n",
      "+--------+----------+-----------+------------+\n",
      "|     107|      GINA|  DEGENERES|         753|\n",
      "|     181|   MATTHEW|     CARREY|         678|\n",
      "|     198|      MARY|     KEITEL|         674|\n",
      "|     144|    ANGELA|WITHERSPOON|         654|\n",
      "|     102|    WALTER|       TORN|         640|\n",
      "|      60|     HENRY|      BERRY|         612|\n",
      "|     150|     JAYNE|      NOLTE|         611|\n",
      "|      37|       VAL|     BOLGER|         605|\n",
      "|      23|    SANDRA|     KILMER|         604|\n",
      "|      90|      SEAN|    GUINESS|         599|\n",
      "+--------+----------+-----------+------------+\n",
      "\n"
     ]
    }
   ],
   "source": [
    "# Вывести 10 актеров, чьи фильмы большего всего арендовали, отсортировать по убыванию.\n",
    "\n",
    "result_query_2 = dfs[\"actor\"] \\\n",
    "    .join(dfs[\"film_actor\"], \"actor_id\")\\\n",
    "    .join(dfs[\"film\"], \"film_id\")\\\n",
    "    .join(dfs[\"inventory\"], \"film_id\")\\\n",
    "    .join(dfs[\"rental\"], \"inventory_id\")\\\n",
    "    .groupBy(dfs[\"actor\"].actor_id, dfs[\"actor\"].first_name, dfs[\"actor\"].last_name)\\\n",
    "    .agg(count(dfs[\"rental\"].rental_id).alias(\"rental_count\"))\\\n",
    "    .orderBy(\"rental_count\", ascending=False)\n",
    "\n",
    "result_query_2.limit(10).show()"
   ]
  },
  {
   "cell_type": "code",
   "execution_count": 9,
   "id": "86d4b8a3",
   "metadata": {},
   "outputs": [
    {
     "name": "stdout",
     "output_type": "stream",
     "text": [
      "+------+-----------+\n",
      "|  name|total_spent|\n",
      "+------+-----------+\n",
      "|Sports|    3617.21|\n",
      "+------+-----------+\n",
      "\n"
     ]
    }
   ],
   "source": [
    "# Вывести категорию фильмов, на которую потратили больше всего денег.\n",
    "\n",
    "result_query_3 = dfs[\"rental\"]\\\n",
    "    .join(dfs[\"inventory\"], \"inventory_id\")\\\n",
    "    .join(dfs[\"film\"], \"film_id\")\\\n",
    "    .join(dfs[\"film_category\"], \"film_id\")\\\n",
    "    .join(dfs[\"category\"], \"category_id\")\\\n",
    "    .groupBy(dfs[\"category\"].name)\\\n",
    "    .agg(sum(dfs[\"film\"].rental_rate).alias(\"total_spent\"))\\\n",
    "    .orderBy(\"total_spent\", ascending=False)\\\n",
    "    .limit(1)\n",
    "\n",
    "result_query_3.show()"
   ]
  },
  {
   "cell_type": "code",
   "execution_count": 17,
   "id": "6f34dc8e",
   "metadata": {},
   "outputs": [
    {
     "name": "stdout",
     "output_type": "stream",
     "text": [
      "+--------------------+\n",
      "|               title|\n",
      "+--------------------+\n",
      "|      ALICE FANTASIA|\n",
      "|         APOLLO TEEN|\n",
      "|      ARGONAUTS TOWN|\n",
      "|       ARK RIDGEMONT|\n",
      "|ARSENIC INDEPENDENCE|\n",
      "|   BOONDOCK BALLROOM|\n",
      "|       BUTCH PANTHER|\n",
      "|       CATCH AMISTAD|\n",
      "| CHINATOWN GLADIATOR|\n",
      "|      CHOCOLATE DUCK|\n",
      "|COMMANDMENTS EXPRESS|\n",
      "|    CROSSING DIVORCE|\n",
      "|     CROWDS TELEMARK|\n",
      "|    CRYSTAL BREAKING|\n",
      "|          DAZED PUNK|\n",
      "|DELIVERANCE MULHO...|\n",
      "|   FIREHOUSE VIETNAM|\n",
      "|       FLOATS GARDEN|\n",
      "|FRANKENSTEIN STRA...|\n",
      "|  GLADIATOR WESTWARD|\n",
      "+--------------------+\n",
      "only showing top 20 rows\n",
      "\n"
     ]
    }
   ],
   "source": [
    "# Вывести названия фильмов, которых нет в inventory.\n",
    "\n",
    "result_query_4 = dfs[\"film\"]\\\n",
    "    .join(dfs[\"inventory\"], \"film_id\", \"left\")\\\n",
    "    .where(dfs[\"inventory\"].film_id.isNull())\\\n",
    "    .select(dfs[\"film\"].title)\\\n",
    "    .orderBy(\"title\")\n",
    "\n",
    "result_query_4.show()"
   ]
  },
  {
   "cell_type": "code",
   "execution_count": 18,
   "id": "40dc400c",
   "metadata": {},
   "outputs": [
    {
     "name": "stdout",
     "output_type": "stream",
     "text": [
      "+--------+----------+---------+-----------+\n",
      "|actor_id|first_name|last_name|count_films|\n",
      "+--------+----------+---------+-----------+\n",
      "|      17|     HELEN|   VOIGHT|          7|\n",
      "|     127|     KEVIN|  GARLAND|          5|\n",
      "|      80|     RALPH|     CRUZ|          5|\n",
      "|      66|      MARY|    TANDY|          5|\n",
      "|     140|    WHOOPI|     HURT|          5|\n",
      "|      81|  SCARLETT|    DAMON|          4|\n",
      "|     109| SYLVESTER|     DERN|          4|\n",
      "|      23|    SANDRA|   KILMER|          4|\n",
      "|     187|     RENEE|     BALL|          4|\n",
      "|      92|   KIRSTEN|   AKROYD|          4|\n",
      "|     173|      ALAN| DREYFUSS|          4|\n",
      "|     101|     SUSAN|    DAVIS|          4|\n",
      "|     150|     JAYNE|    NOLTE|          4|\n",
      "|      13|       UMA|     WOOD|          4|\n",
      "|     131|      JANE|  JACKMAN|          4|\n",
      "|      58| CHRISTIAN|   AKROYD|          4|\n",
      "|     142|      JADA|    RYDER|          4|\n",
      "|      93|     ELLEN|  PRESLEY|          4|\n",
      "|      37|       VAL|   BOLGER|          4|\n",
      "+--------+----------+---------+-----------+\n",
      "\n"
     ]
    }
   ],
   "source": [
    "# Вывести топ 3 актеров, которые больше всего появлялись в фильмах в категории “Children”.\n",
    "# Если у нескольких актеров одинаковое кол-во фильмов, вывести всех\n",
    "\n",
    "top_children_actors = (\n",
    "    dfs[\"actor\"].join(dfs[\"film_actor\"], \"actor_id\")\\\n",
    "    .join(dfs[\"film_category\"], \"film_id\")\\\n",
    "    .join(dfs[\"category\"], \"category_id\")\\\n",
    "    .where(dfs[\"category\"].name == \"Children\")\\\n",
    "    .groupBy(\"actor_id\", \"first_name\", \"last_name\")\\\n",
    "    .agg(count(\"*\").alias(\"count_films\"))\\\n",
    "    .withColumn(\n",
    "        \"rank\", dense_rank().over(Window.orderBy(desc(\"count_films\")))\n",
    "    )\n",
    ")\n",
    "\n",
    "result_query_5 = (\n",
    "    top_children_actors.select(\"actor_id\", \"first_name\", \"last_name\", \"count_films\")\n",
    "    .where(\"rank <= 3\")\n",
    ")\n",
    "result_query_5.show()"
   ]
  },
  {
   "cell_type": "code",
   "execution_count": 23,
   "id": "48444788",
   "metadata": {},
   "outputs": [
    {
     "name": "stdout",
     "output_type": "stream",
     "text": [
      "+------------------+----------------+------------------+\n",
      "|              city|active_customers|inactive_customers|\n",
      "+------------------+----------------+------------------+\n",
      "|           Wroclaw|               0|                 1|\n",
      "|  Charlotte Amalie|               0|                 1|\n",
      "|            Ktahya|               0|                 1|\n",
      "|         Pingxiang|               0|                 1|\n",
      "|       Szkesfehrvr|               0|                 1|\n",
      "|            Daxian|               0|                 1|\n",
      "|     Coatzacoalcos|               0|                 1|\n",
      "|           Bat Yam|               0|                 1|\n",
      "|   Southend-on-Sea|               0|                 1|\n",
      "|          Uluberia|               0|                 1|\n",
      "|         Najafabad|               0|                 1|\n",
      "|          Xiangfan|               0|                 1|\n",
      "|        Kumbakonam|               0|                 1|\n",
      "|            Kamyin|               0|                 1|\n",
      "|            Amroha|               0|                 1|\n",
      "|          Fengshan|               1|                 0|\n",
      "|          Sogamoso|               1|                 0|\n",
      "|           Tanauan|               1|                 0|\n",
      "|A Corua (La Corua)|               1|                 0|\n",
      "|              Faaa|               1|                 0|\n",
      "+------------------+----------------+------------------+\n",
      "only showing top 20 rows\n",
      "\n"
     ]
    }
   ],
   "source": [
    "# Вывести города с количеством активных и неактивных клиентов (активный — customer.active = 1).\n",
    "# Отсортировать по количеству неактивных клиентов по убыванию.\n",
    "\n",
    "\n",
    "joined_df = dfs[\"address\"]\\\n",
    "    .join(dfs[\"city\"], \"city_id\")\\\n",
    "    .join(dfs[\"customer\"], \"address_id\")\n",
    "\n",
    "result_query_6 = joined_df\\\n",
    "    .groupBy(\"city\")\\\n",
    "    .agg(\n",
    "        count(when(joined_df.active == 1, 1)).alias(\"active_customers\"),\n",
    "        count(when(joined_df.active == 0, 1)).alias(\"inactive_customers\")\n",
    "        )\\\n",
    "    .orderBy(col(\"inactive_customers\").desc())\n",
    "\n",
    "result_query_6.show()"
   ]
  },
  {
   "cell_type": "code",
   "execution_count": 121,
   "id": "c02a07a9",
   "metadata": {},
   "outputs": [
    {
     "name": "stdout",
     "output_type": "stream",
     "text": [
      "+-------------+-------------+----------------------+\n",
      "|city_category|film_category|max_total_rental_hours|\n",
      "+-------------+-------------+----------------------+\n",
      "|   Has hyphen|      Foreign|                  5538|\n",
      "|Starts with A|       Sports|                 12309|\n",
      "+-------------+-------------+----------------------+\n",
      "\n"
     ]
    }
   ],
   "source": [
    "# Вывести категорию фильмов, у которой самое большое кол-во часов суммарной аренды\n",
    "# в городах (customer.address_id в этом city), и которые начинаются на букву “a”.\n",
    "# Тоже самое сделать для городов в которых есть символ “-”.\n",
    "\n",
    "# create DataFrame film\n",
    "film = (\n",
    "    dfs['film']\n",
    "    .join(dfs['film_category'], 'film_id', 'left')\n",
    "    .join(dfs['category'], 'category_id', 'left')\n",
    "    .select('film_id', 'title', 'name')\n",
    ")\n",
    "film.createOrReplaceTempView('film_full')\n",
    "\n",
    "# create DataFrame  max_rental_hours\n",
    "max_rental_hours = (\n",
    "    dfs['city']\n",
    "    .join(dfs['address'], 'city_id')\n",
    "    .join(dfs['customer'], 'address_id')\n",
    "    .join(dfs['rental'], 'customer_id')\n",
    "    .join(dfs['inventory'], 'inventory_id')\n",
    "    .join(film, 'film_id')\n",
    "    .where(upper(\"city\").like(\"A%\") | upper(\"city\").like(\"%-%\"))\n",
    "    .groupBy(\n",
    "        col('city').alias('city_name'),\n",
    "        when(upper(\"city\").like(\"A%\"), \"Starts with A\")\\\n",
    "                          .when(upper(\"city\").like(\"%-%\"), \"Has hyphen\")\\\n",
    "                          .alias('city_category'),\n",
    "        col('name').alias('film_category')\n",
    "    )\n",
    "    .agg(sum(((dfs['rental'].return_date.cast(\"long\") - dfs['rental'].rental_date.cast(\"long\")) / 3600)\\\n",
    "             .cast(\"int\")).alias('total_rental_hours'))\n",
    ")\n",
    "\n",
    "# create DataFrame sum_rental_hours_by_city_category\n",
    "sum_rental_hours_by_city_category = (\n",
    "    max_rental_hours\n",
    "    .groupBy('city_category', 'film_category')\n",
    "    .agg(sum('total_rental_hours').alias('max_total_rental_hours'))\n",
    ")\n",
    "\n",
    "# create DataFrame max_rental_hours_by_city\n",
    "window = Window.partitionBy('city_category').orderBy(sum_rental_hours_by_city_category['max_total_rental_hours'].desc())\n",
    "max_rental_hours_by_city = (\n",
    "    sum_rental_hours_by_city_category\n",
    "    .select(\n",
    "        'city_category',\n",
    "        'film_category',\n",
    "        'max_total_rental_hours',\n",
    "        row_number().over(window).alias('rn')\n",
    "    )\n",
    "    .where('rn = 1')\n",
    "    .orderBy('city_category')\n",
    ")\n",
    "\n",
    "# result\n",
    "max_rental_hours_by_city.select('city_category', 'film_category', 'max_total_rental_hours').show()"
   ]
  }
 ],
 "metadata": {
  "kernelspec": {
   "display_name": "Python 3",
   "language": "python",
   "name": "python3"
  },
  "language_info": {
   "codemirror_mode": {
    "name": "ipython",
    "version": 3
   },
   "file_extension": ".py",
   "mimetype": "text/x-python",
   "name": "python",
   "nbconvert_exporter": "python",
   "pygments_lexer": "ipython3",
   "version": "3.6.5"
  }
 },
 "nbformat": 4,
 "nbformat_minor": 5
}
